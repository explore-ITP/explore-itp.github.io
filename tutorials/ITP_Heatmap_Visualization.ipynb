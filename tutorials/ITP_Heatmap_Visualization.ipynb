{
  "nbformat": 4,
  "nbformat_minor": 0,
  "metadata": {
    "colab": {
      "name": "ITP Heatmap Visualization.ipynb",
      "provenance": [],
      "collapsed_sections": []
    },
    "kernelspec": {
      "name": "python3",
      "display_name": "Python 3"
    }
  },
  "cells": [
    {
      "cell_type": "markdown",
      "metadata": {
        "id": "gpnnsIJ6M1pc"
      },
      "source": [
        "## Heatmap Visualizations\n",
        "*Written by Alexandra Rivera, Duke University, Sep 10, 2020*\n",
        "\n",
        "> Refer to [ITP Profile Visualizations](https://colab.research.google.com/drive/1IDAnyuaYz5H54QDRjDdKRYlhgwBqSFGf?usp=sharing) for more background on this project."
      ]
    },
    {
      "cell_type": "code",
      "metadata": {
        "id": "QmfVKWxa8IQQ"
      },
      "source": [
        "import pathlib\n",
        "import os\n",
        "import csv\n",
        "import pandas as pd\n",
        "\n",
        "from bokeh.io import output_notebook\n",
        "output_notebook()\n",
        "from bokeh.io import output_file, show\n",
        "from bokeh.models import (ColorBar, LinearColorMapper, LinearAxis,\n",
        "                          PrintfTickFormatter, HoverTool, BasicTicker, SingleIntervalTicker)\n",
        "from bokeh.plotting import figure\n",
        "from bokeh.palettes import mpl\n",
        "\n",
        "from datetime import datetime, timedelta\n",
        "import math"
      ],
      "execution_count": null,
      "outputs": []
    },
    {
      "cell_type": "markdown",
      "metadata": {
        "id": "KvEBuh5ZMqnG"
      },
      "source": [
        "> We can pick whichever machine we want to visualize. **Choose the machine from the dropdown menu, and run the cell.**"
      ]
    },
    {
      "cell_type": "code",
      "metadata": {
        "id": "G9ImxILUMU4B"
      },
      "source": [
        "machine = 'ITP1' #@param [\"ITP1\", \"ITP2\", \"ITP6\", \"ITP8\", \"ITP41\", \"ITP48\", \"ITP49\", \"ITP86\", \"ITP91\", \"ITP92\"]\n",
        "itpnumber = machine"
      ],
      "execution_count": null,
      "outputs": []
    },
    {
      "cell_type": "markdown",
      "metadata": {
        "id": "mjanC2PbMmut"
      },
      "source": [
        "> We will be plotting our data using dataframes. To create these dataframes, the code reads each CSV file. Here we create ```csvfilelist``` which is a list containing all of the CSV file names. **Run the cell to view a portion of \n",
        "```csvfilelist```.**"
      ]
    },
    {
      "cell_type": "code",
      "metadata": {
        "id": "ZJ20Oxrq9AuU",
        "outputId": "09941f14-19a0-430d-c0d2-56ddd2b59164",
        "colab": {
          "base_uri": "https://localhost:8080/",
          "height": 34
        }
      },
      "source": [
        "# Creates an empty list, to be filled later\n",
        "csvfilelist = []\n",
        "\n",
        "# Iterates over the files in each folder and appends the CSV's filename to its coresponding list\n",
        "for path in os.listdir('/content/drive/My Drive/MIT WHOI Ocean Data Project/Colab Notebooks/' + itpnumber.lower() + 'final_csvs/'):\n",
        "  full_str2 = str(path)\n",
        "  if full_str2.endswith('.csv'): \n",
        "    csvfilelist.append(full_str2)\n",
        "\n",
        "print(csvfilelist[:5])"
      ],
      "execution_count": null,
      "outputs": [
        {
          "output_type": "stream",
          "text": [
            "['itp1grd0228.csv', 'itp1grd0566.csv', 'itp1grd1678.csv', 'itp1grd0214.csv', 'itp1grd0572.csv']\n"
          ],
          "name": "stdout"
        }
      ]
    },
    {
      "cell_type": "markdown",
      "metadata": {
        "id": "Pdjjg1O8OJ7f"
      },
      "source": [
        "> We will be working with `Panda DataFrames`.\n",
        "For this visualization, we make a master dataframe that includes the information from each individual CSV file. For each data point (pressure and temperature), the dataframe also inclues the time when it was taken.\n",
        "**Run the cell to see the first couple lines of `master_df`.**"
      ]
    },
    {
      "cell_type": "code",
      "metadata": {
        "id": "mOpMA7eW9X--",
        "outputId": "92be11a1-0a01-4f4e-c9c4-56b2ee2da911",
        "colab": {
          "base_uri": "https://localhost:8080/",
          "height": 121
        }
      },
      "source": [
        "# Creating dataframe for heatmap\n",
        "master_df = pd.DataFrame(columns=['Temperature', 'Pressure', 'Time'])\n",
        "\n",
        "# The columns from the .dat files we are interested in\n",
        "col_list = ['%pressure(dbar)', 'temperature(C)']\n",
        "\n",
        "# Iterating through each CSV file to add to master dataframe\n",
        "for csvfilename in csvfilelist:\n",
        "    to_read = '/content/drive/My Drive/MIT WHOI Ocean Data Project/Colab Notebooks/' + itpnumber.lower() + 'final_csvs/' + csvfilename\n",
        "    # Dataframe of pressure and temperature datapoints\n",
        "    df = pd.read_csv(to_read, skiprows=1, usecols = col_list)\n",
        "    df.columns = ['Pressure', 'Temperature']\n",
        "    # Dataframe of file's information (time and geographic coordinates)\n",
        "    info = pd.read_csv(to_read, nrows=1, names=['Year', 'YearFrac', 'Long', 'Lat', 'Ndepths'])\n",
        "\n",
        "    # Change year/year fraction to traditional datetime string format   \n",
        "    tyr = str(info['Year'])\n",
        "    tyrfr = str(info['YearFrac'])    \n",
        "    year_start = datetime(int(tyr[5:9]), 1, 1) \n",
        "    itp_yearfraction = float(tyrfr[5:-31])    \n",
        "    itp_day_whole=math.floor(itp_yearfraction)\n",
        "    final_date = year_start + timedelta(days=itp_day_whole)     \n",
        "    final_date_str = final_date.strftime('%Y-%m-%d')\n",
        "\n",
        "    # Adds time data to dataframe \n",
        "    df[\"Time\"] = final_date_str\n",
        "    target_df = df[['Temperature','Pressure', 'Time']]\n",
        "    master_df = master_df.append(target_df)\n",
        "\n",
        "master_df = master_df.reset_index(drop=True)\n",
        "print(master_df.head())"
      ],
      "execution_count": null,
      "outputs": [
        {
          "output_type": "stream",
          "text": [
            "   Temperature  Pressure        Time\n",
            "0      -1.5804       9.8  2005-10-13\n",
            "1      -1.5804      11.0  2005-10-13\n",
            "2      -1.5805      11.9  2005-10-13\n",
            "3      -1.5805      13.0  2005-10-13\n",
            "4      -1.5803      14.0  2005-10-13\n"
          ],
          "name": "stdout"
        }
      ]
    },
    {
      "cell_type": "markdown",
      "metadata": {
        "id": "2hxmVR7RQBoE"
      },
      "source": [
        "> Now we will create our heatmap and corresponding colorbar using Bokeh. **Run the cell to view the what we created.**"
      ]
    },
    {
      "cell_type": "code",
      "metadata": {
        "id": "lZDcspml91-L"
      },
      "source": [
        "# Plotting heatmap \n",
        "TOOLS = \"hover,save,pan,box_zoom,reset,wheel_zoom\"\n",
        "\n",
        "colors = mpl['Plasma'][11]\n",
        "mapper = LinearColorMapper(\n",
        "    palette=colors, low=master_df.Temperature.min(), high=master_df.Temperature.max())\n",
        "\n",
        "# Sorting through timestamps and removing duplicates\n",
        "time_list = list(master_df.Time)\n",
        "time_list = list(sorted(time_list))\n",
        "simplified_tl = []\n",
        "[simplified_tl.append(x) for x in time_list if x not in simplified_tl]\n",
        "\n",
        "# Initializing the heatmap\n",
        "hm = figure(title= 'Temperature Heatmap: ' + master_df.Time.min() + ' to ' + master_df.Time.max() + ', ' + itpnumber,\n",
        "           x_range= simplified_tl, y_range=list(reversed((0,760))),\n",
        "           x_axis_type=None, plot_width=1000, plot_height=400,\n",
        "           tools=TOOLS, toolbar_location='above')\n",
        "\n",
        "# Adding data into the heatmap\n",
        "hm.rect(x=\"Time\", y=\"Pressure\",width=1,height=1,source = master_df, fill_color={'field': 'Temperature', 'transform': mapper},\n",
        "       line_color=None) \n",
        "\n",
        "# Creating the colorbar\n",
        "color_bar = ColorBar(color_mapper=mapper, major_label_text_font_size=\"11px\",\n",
        "                     ticker=BasicTicker(desired_num_ticks=13),\n",
        "                     formatter=PrintfTickFormatter(format='%1.2f' '\\N{DEGREE SIGN}C'),\n",
        "                     label_standoff=12, border_line_color=None, location=(0, 0))\n",
        "hm.add_layout(color_bar, 'right')\n",
        "\n",
        "# Other formatting for plot\n",
        "ticker = SingleIntervalTicker(interval=10, num_minor_ticks=5)\n",
        "xaxis = LinearAxis(ticker=ticker)\n",
        "hm.add_layout(xaxis, 'below')\n",
        "hm.xaxis.axis_label = 'Time (days)'\n",
        "hm.xaxis.major_label_orientation = math.pi / 3\n",
        "hm.yaxis.axis_label = 'Pressure'\n",
        "hm.select_one(HoverTool).tooltips = [('Time', '@Time'),('Pressure', '@Pressure'), ('Temperature', '@Temperature')]\n",
        "hm.background_fill_color = \"black\"\n",
        "\n",
        "show(hm)"
      ],
      "execution_count": null,
      "outputs": []
    }
  ]
}